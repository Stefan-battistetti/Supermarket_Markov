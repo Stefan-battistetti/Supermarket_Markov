{
 "cells": [
  {
   "cell_type": "code",
   "execution_count": 5,
   "metadata": {},
   "outputs": [],
   "source": [
    "import numpy as np\n",
    "import pandas as pd\n",
    "from datetime import datetime, time"
   ]
  },
  {
   "cell_type": "code",
   "execution_count": 28,
   "metadata": {},
   "outputs": [],
   "source": [
    "class Supermarket:\n",
    "    \"\"\"manages multiple Customer instances that are currently in the market.\n",
    "    \"\"\"\n",
    "    total_customers = 0 #keep track of the number of customers\n",
    "\n",
    "    def __init__(self, name='K-Land', open='07:00:00', close='22:00:00', customers=0, minutes=960):\n",
    "        \"\"\"to initializes a supermarket, the following arguments are needed; which is 16h/960min open, with a certain number of customers per day -> list of customers\n",
    "        \"\"\"\n",
    "        self.name = name #we define our attribute with an underscore that makes it inaccessible as .name        \n",
    "        # a list of Customer objects\n",
    "        self.customers = []\n",
    "        Supermarket.total_customers+=1\n",
    "        self.minutes = minutes\n",
    "        self.open = open\n",
    "        self.close = close\n",
    "        #self.last_id = []   #what is the last_id about?\n",
    "\n",
    "\n",
    "    def __repr__(self):\n",
    "        \"\"\" Representation of the instance Supermarket itself\n",
    "        \"\"\"\n",
    "        return f'{self.name} is open starting from {self.open} until {self.close}'\n",
    "\n",
    "    def get_time(self):\n",
    "        \"\"\"current time in HH:MM:SS format, \n",
    "        which customers are right now in the supermarket in which aisle\n",
    "        \"\"\"\n",
    "        start_time = self.open #(text=True, pattern='%H:%M:%S')\n",
    "        given_time = datetime.strptime(start_time, \"%H:%M:%S\")\n",
    "        return f'The time is {given_time}'\n",
    "        \n",
    "\n",
    "    def print_customers(self):\n",
    "        \"\"\"print all customers with the current time and id in CSV format.\n",
    "        \"\"\"\n",
    "        self.df=pd.DateFrame('timestamp')\n",
    "        return self.df\n",
    "\n",
    "    def next_minute(self):\n",
    "        \"\"\"propagates all customers to the next state.\n",
    "        move_all_customers_to_next_state\n",
    "        \n",
    "        \"\"\"\n",
    "        time = self.get_time()\n",
    "        time+='1T'\n",
    "        return None\n",
    "    \n",
    "\n",
    "    def add_new_customers(self):\n",
    "        \"\"\"randomly creates new customers.\n",
    "        \"\"\"\n",
    "        if not customer in self.customers:\n",
    "            self.customers.append(customers)\n",
    "            print(f'{customer.id} is at the entrance of the supermarket')\n",
    "        # else:\n",
    "        #     print(f'{self.name} already owns {pokemon.name}')\n",
    "        return print('There are...')\n",
    "\n",
    "\n",
    "    def remove_exitsting_customers(self):\n",
    "        \"\"\"removes every customer that is not active any more.\n",
    "        \"\"\"\n",
    "        return None\n"
   ]
  },
  {
   "cell_type": "code",
   "execution_count": 23,
   "metadata": {},
   "outputs": [
    {
     "data": {
      "text/plain": [
       "aldi is open starting from 07:00:00 until 22:00:00"
      ]
     },
     "execution_count": 23,
     "metadata": {},
     "output_type": "execute_result"
    }
   ],
   "source": [
    "aldi = Supermarket('aldi')\n",
    "aldi"
   ]
  },
  {
   "cell_type": "code",
   "execution_count": 24,
   "metadata": {},
   "outputs": [
    {
     "data": {
      "text/plain": [
       "'The time is 1900-01-01 07:00:00'"
      ]
     },
     "execution_count": 24,
     "metadata": {},
     "output_type": "execute_result"
    }
   ],
   "source": [
    "aldi.get_time()"
   ]
  },
  {
   "cell_type": "code",
   "execution_count": 13,
   "metadata": {},
   "outputs": [],
   "source": [
    "class Customer():\n",
    "    \"\"\"in composition with the Supermarket class the instances of the Customer class are working\n",
    "    \"\"\"\n",
    "    \n",
    "    def __init__(self, id=1):\n",
    "        \"\"\"to initializes newly customers with unique ids\n",
    "        \"\"\"\n",
    "        self.id = id\n",
    "        self.state='entrance'\n",
    "\n",
    "    def __repr__(self):\n",
    "        return f'<Customer {self.name} in {self.state}>'\n",
    "\n",
    "    def next_state(self):\n",
    "        '''\n",
    "        Propagates the customer to the next state.\n",
    "        Returns nothing.\n",
    "        '''\n",
    "        #self.state = random.choice(['spices', 'drinks', 'fruit'])\n",
    "        self.state = random.choices(states, weights=self.transition_probs[self.state])[0]\n",
    "        return self.state\n",
    "\n",
    "    def is_active(self):\n",
    "        \"\"\"Returns True if the customer has not reached the checkout yet.\"\"\"\n",
    "        return self.state != 'checkout'"
   ]
  }
 ],
 "metadata": {
  "interpreter": {
   "hash": "40d3a090f54c6569ab1632332b64b2c03c39dcf918b08424e98f38b5ae0af88f"
  },
  "kernelspec": {
   "display_name": "Python 3.8.8 64-bit ('base': conda)",
   "language": "python",
   "name": "python3"
  },
  "language_info": {
   "codemirror_mode": {
    "name": "ipython",
    "version": 3
   },
   "file_extension": ".py",
   "mimetype": "text/x-python",
   "name": "python",
   "nbconvert_exporter": "python",
   "pygments_lexer": "ipython3",
   "version": "3.8.8"
  },
  "orig_nbformat": 4
 },
 "nbformat": 4,
 "nbformat_minor": 2
}
