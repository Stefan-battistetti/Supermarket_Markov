{
 "cells": [
  {
   "cell_type": "code",
   "execution_count": 67,
   "metadata": {},
   "outputs": [],
   "source": [
    "import pandas as pd\n",
    "import numpy as np\n",
    "import random\n",
    "import matplotlib.pyplot as plt\n",
    "import seaborn as sns\n",
    "\n",
    "# Set figure size to (28,14)\n",
    "plt.rcParams['figure.figsize'] = (28, 14)"
   ]
  },
  {
   "cell_type": "markdown",
   "metadata": {},
   "source": [
    "Startin with the EDA"
   ]
  },
  {
   "cell_type": "code",
   "execution_count": 68,
   "metadata": {},
   "outputs": [],
   "source": [
    "#read in the csv file as a dataf"
   ]
  },
  {
   "cell_type": "code",
   "execution_count": 69,
   "metadata": {},
   "outputs": [
    {
     "data": {
      "text/html": [
       "<div>\n",
       "<style scoped>\n",
       "    .dataframe tbody tr th:only-of-type {\n",
       "        vertical-align: middle;\n",
       "    }\n",
       "\n",
       "    .dataframe tbody tr th {\n",
       "        vertical-align: top;\n",
       "    }\n",
       "\n",
       "    .dataframe thead th {\n",
       "        text-align: right;\n",
       "    }\n",
       "</style>\n",
       "<table border=\"1\" class=\"dataframe\">\n",
       "  <thead>\n",
       "    <tr style=\"text-align: right;\">\n",
       "      <th></th>\n",
       "      <th>timestamp</th>\n",
       "      <th>customer_no</th>\n",
       "      <th>location</th>\n",
       "    </tr>\n",
       "  </thead>\n",
       "  <tbody>\n",
       "    <tr>\n",
       "      <th>4879</th>\n",
       "      <td>2019-09-02 21:49:00</td>\n",
       "      <td>1442</td>\n",
       "      <td>checkout</td>\n",
       "    </tr>\n",
       "    <tr>\n",
       "      <th>4880</th>\n",
       "      <td>2019-09-02 21:49:00</td>\n",
       "      <td>1444</td>\n",
       "      <td>checkout</td>\n",
       "    </tr>\n",
       "    <tr>\n",
       "      <th>4881</th>\n",
       "      <td>2019-09-02 21:49:00</td>\n",
       "      <td>1445</td>\n",
       "      <td>dairy</td>\n",
       "    </tr>\n",
       "    <tr>\n",
       "      <th>4882</th>\n",
       "      <td>2019-09-02 21:50:00</td>\n",
       "      <td>1446</td>\n",
       "      <td>dairy</td>\n",
       "    </tr>\n",
       "    <tr>\n",
       "      <th>4883</th>\n",
       "      <td>2019-09-02 21:50:00</td>\n",
       "      <td>1447</td>\n",
       "      <td>fruit</td>\n",
       "    </tr>\n",
       "  </tbody>\n",
       "</table>\n",
       "</div>"
      ],
      "text/plain": [
       "                timestamp  customer_no  location\n",
       "4879  2019-09-02 21:49:00         1442  checkout\n",
       "4880  2019-09-02 21:49:00         1444  checkout\n",
       "4881  2019-09-02 21:49:00         1445     dairy\n",
       "4882  2019-09-02 21:50:00         1446     dairy\n",
       "4883  2019-09-02 21:50:00         1447     fruit"
      ]
     },
     "execution_count": 69,
     "metadata": {},
     "output_type": "execute_result"
    }
   ],
   "source": [
    "df_0 = pd.read_csv(\"/Users/sebastian/Documents/spiced_projects/euclidean_eukalyptus/work/08_week/weekly_project/Supermarket_Markov/data/monday.csv\", sep=';')\n",
    "df_0.tail()"
   ]
  },
  {
   "cell_type": "code",
   "execution_count": 70,
   "metadata": {},
   "outputs": [],
   "source": [
    "df_0['time'] = pd.to_datetime(df_0['timestamp'])\n"
   ]
  },
  {
   "cell_type": "code",
   "execution_count": 71,
   "metadata": {},
   "outputs": [],
   "source": [
    "df_0.set_index('timestamp', inplace=True)"
   ]
  },
  {
   "cell_type": "code",
   "execution_count": 72,
   "metadata": {},
   "outputs": [],
   "source": [
    "df_0['customer_id']='MO'+'_'+(df_0['customer_no'].agg(str))"
   ]
  },
  {
   "cell_type": "code",
   "execution_count": 73,
   "metadata": {},
   "outputs": [
    {
     "data": {
      "text/html": [
       "<div>\n",
       "<style scoped>\n",
       "    .dataframe tbody tr th:only-of-type {\n",
       "        vertical-align: middle;\n",
       "    }\n",
       "\n",
       "    .dataframe tbody tr th {\n",
       "        vertical-align: top;\n",
       "    }\n",
       "\n",
       "    .dataframe thead th {\n",
       "        text-align: right;\n",
       "    }\n",
       "</style>\n",
       "<table border=\"1\" class=\"dataframe\">\n",
       "  <thead>\n",
       "    <tr style=\"text-align: right;\">\n",
       "      <th></th>\n",
       "      <th>customer_no</th>\n",
       "      <th>location</th>\n",
       "      <th>time</th>\n",
       "      <th>customer_id</th>\n",
       "    </tr>\n",
       "    <tr>\n",
       "      <th>timestamp</th>\n",
       "      <th></th>\n",
       "      <th></th>\n",
       "      <th></th>\n",
       "      <th></th>\n",
       "    </tr>\n",
       "  </thead>\n",
       "  <tbody>\n",
       "    <tr>\n",
       "      <th>2019-09-02 07:03:00</th>\n",
       "      <td>1</td>\n",
       "      <td>dairy</td>\n",
       "      <td>2019-09-02 07:03:00</td>\n",
       "      <td>MO_1</td>\n",
       "    </tr>\n",
       "    <tr>\n",
       "      <th>2019-09-02 07:03:00</th>\n",
       "      <td>2</td>\n",
       "      <td>dairy</td>\n",
       "      <td>2019-09-02 07:03:00</td>\n",
       "      <td>MO_2</td>\n",
       "    </tr>\n",
       "    <tr>\n",
       "      <th>2019-09-02 07:04:00</th>\n",
       "      <td>3</td>\n",
       "      <td>dairy</td>\n",
       "      <td>2019-09-02 07:04:00</td>\n",
       "      <td>MO_3</td>\n",
       "    </tr>\n",
       "    <tr>\n",
       "      <th>2019-09-02 07:04:00</th>\n",
       "      <td>4</td>\n",
       "      <td>dairy</td>\n",
       "      <td>2019-09-02 07:04:00</td>\n",
       "      <td>MO_4</td>\n",
       "    </tr>\n",
       "    <tr>\n",
       "      <th>2019-09-02 07:04:00</th>\n",
       "      <td>5</td>\n",
       "      <td>spices</td>\n",
       "      <td>2019-09-02 07:04:00</td>\n",
       "      <td>MO_5</td>\n",
       "    </tr>\n",
       "    <tr>\n",
       "      <th>2019-09-02 07:04:00</th>\n",
       "      <td>6</td>\n",
       "      <td>spices</td>\n",
       "      <td>2019-09-02 07:04:00</td>\n",
       "      <td>MO_6</td>\n",
       "    </tr>\n",
       "    <tr>\n",
       "      <th>2019-09-02 07:04:00</th>\n",
       "      <td>7</td>\n",
       "      <td>spices</td>\n",
       "      <td>2019-09-02 07:04:00</td>\n",
       "      <td>MO_7</td>\n",
       "    </tr>\n",
       "    <tr>\n",
       "      <th>2019-09-02 07:04:00</th>\n",
       "      <td>8</td>\n",
       "      <td>fruit</td>\n",
       "      <td>2019-09-02 07:04:00</td>\n",
       "      <td>MO_8</td>\n",
       "    </tr>\n",
       "    <tr>\n",
       "      <th>2019-09-02 07:05:00</th>\n",
       "      <td>1</td>\n",
       "      <td>checkout</td>\n",
       "      <td>2019-09-02 07:05:00</td>\n",
       "      <td>MO_1</td>\n",
       "    </tr>\n",
       "    <tr>\n",
       "      <th>2019-09-02 07:05:00</th>\n",
       "      <td>5</td>\n",
       "      <td>checkout</td>\n",
       "      <td>2019-09-02 07:05:00</td>\n",
       "      <td>MO_5</td>\n",
       "    </tr>\n",
       "    <tr>\n",
       "      <th>2019-09-02 07:05:00</th>\n",
       "      <td>6</td>\n",
       "      <td>dairy</td>\n",
       "      <td>2019-09-02 07:05:00</td>\n",
       "      <td>MO_6</td>\n",
       "    </tr>\n",
       "    <tr>\n",
       "      <th>2019-09-02 07:05:00</th>\n",
       "      <td>7</td>\n",
       "      <td>drinks</td>\n",
       "      <td>2019-09-02 07:05:00</td>\n",
       "      <td>MO_7</td>\n",
       "    </tr>\n",
       "    <tr>\n",
       "      <th>2019-09-02 07:06:00</th>\n",
       "      <td>2</td>\n",
       "      <td>checkout</td>\n",
       "      <td>2019-09-02 07:06:00</td>\n",
       "      <td>MO_2</td>\n",
       "    </tr>\n",
       "    <tr>\n",
       "      <th>2019-09-02 07:06:00</th>\n",
       "      <td>3</td>\n",
       "      <td>checkout</td>\n",
       "      <td>2019-09-02 07:06:00</td>\n",
       "      <td>MO_3</td>\n",
       "    </tr>\n",
       "    <tr>\n",
       "      <th>2019-09-02 07:06:00</th>\n",
       "      <td>9</td>\n",
       "      <td>dairy</td>\n",
       "      <td>2019-09-02 07:06:00</td>\n",
       "      <td>MO_9</td>\n",
       "    </tr>\n",
       "    <tr>\n",
       "      <th>2019-09-02 07:06:00</th>\n",
       "      <td>10</td>\n",
       "      <td>fruit</td>\n",
       "      <td>2019-09-02 07:06:00</td>\n",
       "      <td>MO_10</td>\n",
       "    </tr>\n",
       "    <tr>\n",
       "      <th>2019-09-02 07:06:00</th>\n",
       "      <td>11</td>\n",
       "      <td>drinks</td>\n",
       "      <td>2019-09-02 07:06:00</td>\n",
       "      <td>MO_11</td>\n",
       "    </tr>\n",
       "    <tr>\n",
       "      <th>2019-09-02 07:06:00</th>\n",
       "      <td>12</td>\n",
       "      <td>spices</td>\n",
       "      <td>2019-09-02 07:06:00</td>\n",
       "      <td>MO_12</td>\n",
       "    </tr>\n",
       "    <tr>\n",
       "      <th>2019-09-02 07:06:00</th>\n",
       "      <td>13</td>\n",
       "      <td>dairy</td>\n",
       "      <td>2019-09-02 07:06:00</td>\n",
       "      <td>MO_13</td>\n",
       "    </tr>\n",
       "    <tr>\n",
       "      <th>2019-09-02 07:06:00</th>\n",
       "      <td>14</td>\n",
       "      <td>fruit</td>\n",
       "      <td>2019-09-02 07:06:00</td>\n",
       "      <td>MO_14</td>\n",
       "    </tr>\n",
       "  </tbody>\n",
       "</table>\n",
       "</div>"
      ],
      "text/plain": [
       "                     customer_no  location                time customer_id\n",
       "timestamp                                                                 \n",
       "2019-09-02 07:03:00            1     dairy 2019-09-02 07:03:00        MO_1\n",
       "2019-09-02 07:03:00            2     dairy 2019-09-02 07:03:00        MO_2\n",
       "2019-09-02 07:04:00            3     dairy 2019-09-02 07:04:00        MO_3\n",
       "2019-09-02 07:04:00            4     dairy 2019-09-02 07:04:00        MO_4\n",
       "2019-09-02 07:04:00            5    spices 2019-09-02 07:04:00        MO_5\n",
       "2019-09-02 07:04:00            6    spices 2019-09-02 07:04:00        MO_6\n",
       "2019-09-02 07:04:00            7    spices 2019-09-02 07:04:00        MO_7\n",
       "2019-09-02 07:04:00            8     fruit 2019-09-02 07:04:00        MO_8\n",
       "2019-09-02 07:05:00            1  checkout 2019-09-02 07:05:00        MO_1\n",
       "2019-09-02 07:05:00            5  checkout 2019-09-02 07:05:00        MO_5\n",
       "2019-09-02 07:05:00            6     dairy 2019-09-02 07:05:00        MO_6\n",
       "2019-09-02 07:05:00            7    drinks 2019-09-02 07:05:00        MO_7\n",
       "2019-09-02 07:06:00            2  checkout 2019-09-02 07:06:00        MO_2\n",
       "2019-09-02 07:06:00            3  checkout 2019-09-02 07:06:00        MO_3\n",
       "2019-09-02 07:06:00            9     dairy 2019-09-02 07:06:00        MO_9\n",
       "2019-09-02 07:06:00           10     fruit 2019-09-02 07:06:00       MO_10\n",
       "2019-09-02 07:06:00           11    drinks 2019-09-02 07:06:00       MO_11\n",
       "2019-09-02 07:06:00           12    spices 2019-09-02 07:06:00       MO_12\n",
       "2019-09-02 07:06:00           13     dairy 2019-09-02 07:06:00       MO_13\n",
       "2019-09-02 07:06:00           14     fruit 2019-09-02 07:06:00       MO_14"
      ]
     },
     "execution_count": 73,
     "metadata": {},
     "output_type": "execute_result"
    }
   ],
   "source": [
    "df_0.head(20)"
   ]
  },
  {
   "cell_type": "code",
   "execution_count": 74,
   "metadata": {},
   "outputs": [],
   "source": [
    "#count the number of unique customers in each ailse of the supermarket"
   ]
  },
  {
   "cell_type": "code",
   "execution_count": 75,
   "metadata": {},
   "outputs": [],
   "source": [
    "def question_03(df):\n",
    "    df = pd.DataFrame(df.groupby(['location']).count()['customer_no'])\n",
    "    return print(df)"
   ]
  },
  {
   "cell_type": "code",
   "execution_count": 76,
   "metadata": {},
   "outputs": [
    {
     "name": "stdout",
     "output_type": "stream",
     "text": [
      "          customer_no\n",
      "location             \n",
      "checkout         1437\n",
      "dairy             895\n",
      "drinks            797\n",
      "fruit            1005\n",
      "spices            750\n"
     ]
    }
   ],
   "source": [
    "question_03(df_0)"
   ]
  },
  {
   "cell_type": "code",
   "execution_count": 77,
   "metadata": {},
   "outputs": [
    {
     "name": "stdout",
     "output_type": "stream",
     "text": [
      "<class 'pandas.core.frame.DataFrame'>\n",
      "Index: 4884 entries, 2019-09-02 07:03:00 to 2019-09-02 21:50:00\n",
      "Data columns (total 4 columns):\n",
      " #   Column       Non-Null Count  Dtype         \n",
      "---  ------       --------------  -----         \n",
      " 0   customer_no  4884 non-null   int64         \n",
      " 1   location     4884 non-null   object        \n",
      " 2   time         4884 non-null   datetime64[ns]\n",
      " 3   customer_id  4884 non-null   object        \n",
      "dtypes: datetime64[ns](1), int64(1), object(2)\n",
      "memory usage: 319.8+ KB\n"
     ]
    }
   ],
   "source": [
    "df_0.info()"
   ]
  },
  {
   "cell_type": "code",
   "execution_count": 78,
   "metadata": {},
   "outputs": [],
   "source": [
    "#q4: Calculate the time each customer spent in the market"
   ]
  },
  {
   "cell_type": "code",
   "execution_count": 79,
   "metadata": {},
   "outputs": [],
   "source": [
    "#groubby location = checkout over time"
   ]
  },
  {
   "cell_type": "code",
   "execution_count": 96,
   "metadata": {},
   "outputs": [],
   "source": [
    "def question_04(df):\n",
    "    #df['minutes_from_timestamps'] = df['timestamp'].dt.minute\n",
    "    df = pd.DataFrame(df.groupby([pd.Grouper(key='time',freq='min'),'customer_id']))\n",
    "    return print(df.head(20))"
   ]
  },
  {
   "cell_type": "code",
   "execution_count": 81,
   "metadata": {},
   "outputs": [],
   "source": [
    "#df_0.resample('M',on='time')\n",
    "#df_0"
   ]
  },
  {
   "cell_type": "code",
   "execution_count": 82,
   "metadata": {},
   "outputs": [],
   "source": [
    "#df_0.groupby('customer_id')['time'].diff()"
   ]
  },
  {
   "cell_type": "code",
   "execution_count": null,
   "metadata": {},
   "outputs": [],
   "source": [
    "#question_04(df_0)"
   ]
  }
 ],
 "metadata": {
  "interpreter": {
   "hash": "40d3a090f54c6569ab1632332b64b2c03c39dcf918b08424e98f38b5ae0af88f"
  },
  "kernelspec": {
   "display_name": "Python 3.8.8 64-bit ('base': conda)",
   "language": "python",
   "name": "python3"
  },
  "language_info": {
   "codemirror_mode": {
    "name": "ipython",
    "version": 3
   },
   "file_extension": ".py",
   "mimetype": "text/x-python",
   "name": "python",
   "nbconvert_exporter": "python",
   "pygments_lexer": "ipython3",
   "version": "3.8.8"
  },
  "orig_nbformat": 4
 },
 "nbformat": 4,
 "nbformat_minor": 2
}
