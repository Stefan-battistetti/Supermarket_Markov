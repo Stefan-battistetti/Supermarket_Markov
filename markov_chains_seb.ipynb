{
 "cells": [
  {
   "cell_type": "code",
   "execution_count": 1,
   "metadata": {},
   "outputs": [],
   "source": [
    "import pandas as pd\n",
    "import numpy as np\n",
    "import random\n",
    "import matplotlib.pyplot as plt\n",
    "import seaborn as sns\n",
    "\n",
    "# Set figure size to (28,14)\n",
    "plt.rcParams['figure.figsize'] = (28, 14)"
   ]
  },
  {
   "cell_type": "markdown",
   "metadata": {},
   "source": [
    "Startin with the EDA"
   ]
  },
  {
   "cell_type": "code",
   "execution_count": null,
   "metadata": {},
   "outputs": [],
   "source": [
    "#read in the csv file as a dataf"
   ]
  },
  {
   "cell_type": "code",
   "execution_count": 2,
   "metadata": {},
   "outputs": [
    {
     "data": {
      "text/html": [
       "<div>\n",
       "<style scoped>\n",
       "    .dataframe tbody tr th:only-of-type {\n",
       "        vertical-align: middle;\n",
       "    }\n",
       "\n",
       "    .dataframe tbody tr th {\n",
       "        vertical-align: top;\n",
       "    }\n",
       "\n",
       "    .dataframe thead th {\n",
       "        text-align: right;\n",
       "    }\n",
       "</style>\n",
       "<table border=\"1\" class=\"dataframe\">\n",
       "  <thead>\n",
       "    <tr style=\"text-align: right;\">\n",
       "      <th></th>\n",
       "      <th>timestamp</th>\n",
       "      <th>customer_no</th>\n",
       "      <th>location</th>\n",
       "    </tr>\n",
       "  </thead>\n",
       "  <tbody>\n",
       "    <tr>\n",
       "      <th>4879</th>\n",
       "      <td>2019-09-02 21:49:00</td>\n",
       "      <td>1442</td>\n",
       "      <td>checkout</td>\n",
       "    </tr>\n",
       "    <tr>\n",
       "      <th>4880</th>\n",
       "      <td>2019-09-02 21:49:00</td>\n",
       "      <td>1444</td>\n",
       "      <td>checkout</td>\n",
       "    </tr>\n",
       "    <tr>\n",
       "      <th>4881</th>\n",
       "      <td>2019-09-02 21:49:00</td>\n",
       "      <td>1445</td>\n",
       "      <td>dairy</td>\n",
       "    </tr>\n",
       "    <tr>\n",
       "      <th>4882</th>\n",
       "      <td>2019-09-02 21:50:00</td>\n",
       "      <td>1446</td>\n",
       "      <td>dairy</td>\n",
       "    </tr>\n",
       "    <tr>\n",
       "      <th>4883</th>\n",
       "      <td>2019-09-02 21:50:00</td>\n",
       "      <td>1447</td>\n",
       "      <td>fruit</td>\n",
       "    </tr>\n",
       "  </tbody>\n",
       "</table>\n",
       "</div>"
      ],
      "text/plain": [
       "                timestamp  customer_no  location\n",
       "4879  2019-09-02 21:49:00         1442  checkout\n",
       "4880  2019-09-02 21:49:00         1444  checkout\n",
       "4881  2019-09-02 21:49:00         1445     dairy\n",
       "4882  2019-09-02 21:50:00         1446     dairy\n",
       "4883  2019-09-02 21:50:00         1447     fruit"
      ]
     },
     "execution_count": 2,
     "metadata": {},
     "output_type": "execute_result"
    }
   ],
   "source": [
    "df_0 = pd.read_csv(\"/Users/sebastian/Documents/spiced_projects/euclidean_eukalyptus/work/08_week/weekly_project/Supermarket_Markov/data/monday.csv\", sep=';')\n",
    "df_0.tail()"
   ]
  },
  {
   "cell_type": "code",
   "execution_count": 3,
   "metadata": {},
   "outputs": [],
   "source": [
    "df_0['time'] = pd.to_datetime(df_0['timestamp'])\n"
   ]
  },
  {
   "cell_type": "code",
   "execution_count": 4,
   "metadata": {},
   "outputs": [],
   "source": [
    "df_0.set_index('timestamp', inplace=True)"
   ]
  },
  {
   "cell_type": "code",
   "execution_count": 5,
   "metadata": {},
   "outputs": [],
   "source": [
    "df_0['customer_id']='Mo'+'_'+(df_0['customer_no'].agg(str))"
   ]
  },
  {
   "cell_type": "code",
   "execution_count": 11,
   "metadata": {},
   "outputs": [],
   "source": [
    "#sort the dataframe by customer_id\n",
    "def sort_df(df):\n",
    "    df.sort_index(inplace=True)\n",
    "    df.sort_values('customer_no', kind='stable', inplace=True)\n",
    "    return df.head(20)"
   ]
  },
  {
   "cell_type": "code",
   "execution_count": 12,
   "metadata": {},
   "outputs": [
    {
     "data": {
      "text/html": [
       "<div>\n",
       "<style scoped>\n",
       "    .dataframe tbody tr th:only-of-type {\n",
       "        vertical-align: middle;\n",
       "    }\n",
       "\n",
       "    .dataframe tbody tr th {\n",
       "        vertical-align: top;\n",
       "    }\n",
       "\n",
       "    .dataframe thead th {\n",
       "        text-align: right;\n",
       "    }\n",
       "</style>\n",
       "<table border=\"1\" class=\"dataframe\">\n",
       "  <thead>\n",
       "    <tr style=\"text-align: right;\">\n",
       "      <th></th>\n",
       "      <th>customer_no</th>\n",
       "      <th>location</th>\n",
       "      <th>time</th>\n",
       "      <th>customer_id</th>\n",
       "    </tr>\n",
       "    <tr>\n",
       "      <th>timestamp</th>\n",
       "      <th></th>\n",
       "      <th></th>\n",
       "      <th></th>\n",
       "      <th></th>\n",
       "    </tr>\n",
       "  </thead>\n",
       "  <tbody>\n",
       "    <tr>\n",
       "      <th>2019-09-02 07:03:00</th>\n",
       "      <td>1</td>\n",
       "      <td>dairy</td>\n",
       "      <td>2019-09-02 07:03:00</td>\n",
       "      <td>Mo_1</td>\n",
       "    </tr>\n",
       "    <tr>\n",
       "      <th>2019-09-02 07:05:00</th>\n",
       "      <td>1</td>\n",
       "      <td>checkout</td>\n",
       "      <td>2019-09-02 07:05:00</td>\n",
       "      <td>Mo_1</td>\n",
       "    </tr>\n",
       "    <tr>\n",
       "      <th>2019-09-02 07:03:00</th>\n",
       "      <td>2</td>\n",
       "      <td>dairy</td>\n",
       "      <td>2019-09-02 07:03:00</td>\n",
       "      <td>Mo_2</td>\n",
       "    </tr>\n",
       "    <tr>\n",
       "      <th>2019-09-02 07:06:00</th>\n",
       "      <td>2</td>\n",
       "      <td>checkout</td>\n",
       "      <td>2019-09-02 07:06:00</td>\n",
       "      <td>Mo_2</td>\n",
       "    </tr>\n",
       "    <tr>\n",
       "      <th>2019-09-02 07:04:00</th>\n",
       "      <td>3</td>\n",
       "      <td>dairy</td>\n",
       "      <td>2019-09-02 07:04:00</td>\n",
       "      <td>Mo_3</td>\n",
       "    </tr>\n",
       "    <tr>\n",
       "      <th>2019-09-02 07:06:00</th>\n",
       "      <td>3</td>\n",
       "      <td>checkout</td>\n",
       "      <td>2019-09-02 07:06:00</td>\n",
       "      <td>Mo_3</td>\n",
       "    </tr>\n",
       "    <tr>\n",
       "      <th>2019-09-02 07:04:00</th>\n",
       "      <td>4</td>\n",
       "      <td>dairy</td>\n",
       "      <td>2019-09-02 07:04:00</td>\n",
       "      <td>Mo_4</td>\n",
       "    </tr>\n",
       "    <tr>\n",
       "      <th>2019-09-02 07:08:00</th>\n",
       "      <td>4</td>\n",
       "      <td>checkout</td>\n",
       "      <td>2019-09-02 07:08:00</td>\n",
       "      <td>Mo_4</td>\n",
       "    </tr>\n",
       "    <tr>\n",
       "      <th>2019-09-02 07:04:00</th>\n",
       "      <td>5</td>\n",
       "      <td>spices</td>\n",
       "      <td>2019-09-02 07:04:00</td>\n",
       "      <td>Mo_5</td>\n",
       "    </tr>\n",
       "    <tr>\n",
       "      <th>2019-09-02 07:05:00</th>\n",
       "      <td>5</td>\n",
       "      <td>checkout</td>\n",
       "      <td>2019-09-02 07:05:00</td>\n",
       "      <td>Mo_5</td>\n",
       "    </tr>\n",
       "    <tr>\n",
       "      <th>2019-09-02 07:04:00</th>\n",
       "      <td>6</td>\n",
       "      <td>spices</td>\n",
       "      <td>2019-09-02 07:04:00</td>\n",
       "      <td>Mo_6</td>\n",
       "    </tr>\n",
       "    <tr>\n",
       "      <th>2019-09-02 07:05:00</th>\n",
       "      <td>6</td>\n",
       "      <td>dairy</td>\n",
       "      <td>2019-09-02 07:05:00</td>\n",
       "      <td>Mo_6</td>\n",
       "    </tr>\n",
       "    <tr>\n",
       "      <th>2019-09-02 07:17:00</th>\n",
       "      <td>6</td>\n",
       "      <td>spices</td>\n",
       "      <td>2019-09-02 07:17:00</td>\n",
       "      <td>Mo_6</td>\n",
       "    </tr>\n",
       "    <tr>\n",
       "      <th>2019-09-02 07:18:00</th>\n",
       "      <td>6</td>\n",
       "      <td>drinks</td>\n",
       "      <td>2019-09-02 07:18:00</td>\n",
       "      <td>Mo_6</td>\n",
       "    </tr>\n",
       "    <tr>\n",
       "      <th>2019-09-02 07:25:00</th>\n",
       "      <td>6</td>\n",
       "      <td>spices</td>\n",
       "      <td>2019-09-02 07:25:00</td>\n",
       "      <td>Mo_6</td>\n",
       "    </tr>\n",
       "    <tr>\n",
       "      <th>2019-09-02 07:26:00</th>\n",
       "      <td>6</td>\n",
       "      <td>dairy</td>\n",
       "      <td>2019-09-02 07:26:00</td>\n",
       "      <td>Mo_6</td>\n",
       "    </tr>\n",
       "    <tr>\n",
       "      <th>2019-09-02 07:27:00</th>\n",
       "      <td>6</td>\n",
       "      <td>spices</td>\n",
       "      <td>2019-09-02 07:27:00</td>\n",
       "      <td>Mo_6</td>\n",
       "    </tr>\n",
       "    <tr>\n",
       "      <th>2019-09-02 07:29:00</th>\n",
       "      <td>6</td>\n",
       "      <td>checkout</td>\n",
       "      <td>2019-09-02 07:29:00</td>\n",
       "      <td>Mo_6</td>\n",
       "    </tr>\n",
       "    <tr>\n",
       "      <th>2019-09-02 07:04:00</th>\n",
       "      <td>7</td>\n",
       "      <td>spices</td>\n",
       "      <td>2019-09-02 07:04:00</td>\n",
       "      <td>Mo_7</td>\n",
       "    </tr>\n",
       "    <tr>\n",
       "      <th>2019-09-02 07:05:00</th>\n",
       "      <td>7</td>\n",
       "      <td>drinks</td>\n",
       "      <td>2019-09-02 07:05:00</td>\n",
       "      <td>Mo_7</td>\n",
       "    </tr>\n",
       "  </tbody>\n",
       "</table>\n",
       "</div>"
      ],
      "text/plain": [
       "                     customer_no  location                time customer_id\n",
       "timestamp                                                                 \n",
       "2019-09-02 07:03:00            1     dairy 2019-09-02 07:03:00        Mo_1\n",
       "2019-09-02 07:05:00            1  checkout 2019-09-02 07:05:00        Mo_1\n",
       "2019-09-02 07:03:00            2     dairy 2019-09-02 07:03:00        Mo_2\n",
       "2019-09-02 07:06:00            2  checkout 2019-09-02 07:06:00        Mo_2\n",
       "2019-09-02 07:04:00            3     dairy 2019-09-02 07:04:00        Mo_3\n",
       "2019-09-02 07:06:00            3  checkout 2019-09-02 07:06:00        Mo_3\n",
       "2019-09-02 07:04:00            4     dairy 2019-09-02 07:04:00        Mo_4\n",
       "2019-09-02 07:08:00            4  checkout 2019-09-02 07:08:00        Mo_4\n",
       "2019-09-02 07:04:00            5    spices 2019-09-02 07:04:00        Mo_5\n",
       "2019-09-02 07:05:00            5  checkout 2019-09-02 07:05:00        Mo_5\n",
       "2019-09-02 07:04:00            6    spices 2019-09-02 07:04:00        Mo_6\n",
       "2019-09-02 07:05:00            6     dairy 2019-09-02 07:05:00        Mo_6\n",
       "2019-09-02 07:17:00            6    spices 2019-09-02 07:17:00        Mo_6\n",
       "2019-09-02 07:18:00            6    drinks 2019-09-02 07:18:00        Mo_6\n",
       "2019-09-02 07:25:00            6    spices 2019-09-02 07:25:00        Mo_6\n",
       "2019-09-02 07:26:00            6     dairy 2019-09-02 07:26:00        Mo_6\n",
       "2019-09-02 07:27:00            6    spices 2019-09-02 07:27:00        Mo_6\n",
       "2019-09-02 07:29:00            6  checkout 2019-09-02 07:29:00        Mo_6\n",
       "2019-09-02 07:04:00            7    spices 2019-09-02 07:04:00        Mo_7\n",
       "2019-09-02 07:05:00            7    drinks 2019-09-02 07:05:00        Mo_7"
      ]
     },
     "execution_count": 12,
     "metadata": {},
     "output_type": "execute_result"
    }
   ],
   "source": [
    "sort_df(df_0)"
   ]
  },
  {
   "cell_type": "code",
   "execution_count": null,
   "metadata": {},
   "outputs": [],
   "source": [
    "df_0.head(20)"
   ]
  },
  {
   "cell_type": "code",
   "execution_count": null,
   "metadata": {},
   "outputs": [],
   "source": [
    "#count the number of unique customers in each ailse of the supermarket"
   ]
  },
  {
   "cell_type": "code",
   "execution_count": 9,
   "metadata": {},
   "outputs": [],
   "source": [
    "def question_03(df):\n",
    "    df = pd.DataFrame(df.groupby(['location']).count()['customer_no'])\n",
    "    return print(df)"
   ]
  },
  {
   "cell_type": "code",
   "execution_count": null,
   "metadata": {},
   "outputs": [],
   "source": [
    "#q4: Calculate the time each customer spent in the market\n",
    "#groubby location = checkout over time"
   ]
  },
  {
   "cell_type": "code",
   "execution_count": null,
   "metadata": {},
   "outputs": [],
   "source": [
    "def question_04(df):\n",
    "    #df['minutes_from_timestamps'] = df['timestamp'].dt.minute\n",
    "    df = pd.DataFrame(df.groupby([pd.Grouper(key='time',freq='min'),'customer_id']))\n",
    "    return print(df.head(20))"
   ]
  },
  {
   "cell_type": "code",
   "execution_count": 7,
   "metadata": {},
   "outputs": [
    {
     "name": "stdout",
     "output_type": "stream",
     "text": [
      "          customer_no\n",
      "location             \n",
      "checkout         1437\n",
      "dairy             895\n",
      "drinks            797\n",
      "fruit            1005\n",
      "spices            750\n"
     ]
    }
   ],
   "source": [
    "question_03(df_0)"
   ]
  },
  {
   "cell_type": "code",
   "execution_count": null,
   "metadata": {},
   "outputs": [],
   "source": [
    "df_0.info()"
   ]
  },
  {
   "cell_type": "code",
   "execution_count": 15,
   "metadata": {},
   "outputs": [],
   "source": [
    "df = df_0.set_index('time')"
   ]
  },
  {
   "cell_type": "code",
   "execution_count": 19,
   "metadata": {},
   "outputs": [
    {
     "data": {
      "text/html": [
       "<div>\n",
       "<style scoped>\n",
       "    .dataframe tbody tr th:only-of-type {\n",
       "        vertical-align: middle;\n",
       "    }\n",
       "\n",
       "    .dataframe tbody tr th {\n",
       "        vertical-align: top;\n",
       "    }\n",
       "\n",
       "    .dataframe thead th {\n",
       "        text-align: right;\n",
       "    }\n",
       "</style>\n",
       "<table border=\"1\" class=\"dataframe\">\n",
       "  <thead>\n",
       "    <tr style=\"text-align: right;\">\n",
       "      <th></th>\n",
       "      <th>customer_no</th>\n",
       "      <th>location</th>\n",
       "      <th>customer_id</th>\n",
       "    </tr>\n",
       "    <tr>\n",
       "      <th>time</th>\n",
       "      <th></th>\n",
       "      <th></th>\n",
       "      <th></th>\n",
       "    </tr>\n",
       "  </thead>\n",
       "  <tbody>\n",
       "    <tr>\n",
       "      <th>2019-09-02 07:03:00</th>\n",
       "      <td>1</td>\n",
       "      <td>dairy</td>\n",
       "      <td>Mo_1</td>\n",
       "    </tr>\n",
       "    <tr>\n",
       "      <th>2019-09-02 07:05:00</th>\n",
       "      <td>1</td>\n",
       "      <td>checkout</td>\n",
       "      <td>Mo_1</td>\n",
       "    </tr>\n",
       "    <tr>\n",
       "      <th>2019-09-02 07:03:00</th>\n",
       "      <td>2</td>\n",
       "      <td>dairy</td>\n",
       "      <td>Mo_2</td>\n",
       "    </tr>\n",
       "    <tr>\n",
       "      <th>2019-09-02 07:06:00</th>\n",
       "      <td>2</td>\n",
       "      <td>checkout</td>\n",
       "      <td>Mo_2</td>\n",
       "    </tr>\n",
       "    <tr>\n",
       "      <th>2019-09-02 07:04:00</th>\n",
       "      <td>3</td>\n",
       "      <td>dairy</td>\n",
       "      <td>Mo_3</td>\n",
       "    </tr>\n",
       "  </tbody>\n",
       "</table>\n",
       "</div>"
      ],
      "text/plain": [
       "                     customer_no  location customer_id\n",
       "time                                                  \n",
       "2019-09-02 07:03:00            1     dairy        Mo_1\n",
       "2019-09-02 07:05:00            1  checkout        Mo_1\n",
       "2019-09-02 07:03:00            2     dairy        Mo_2\n",
       "2019-09-02 07:06:00            2  checkout        Mo_2\n",
       "2019-09-02 07:04:00            3     dairy        Mo_3"
      ]
     },
     "execution_count": 19,
     "metadata": {},
     "output_type": "execute_result"
    }
   ],
   "source": [
    "df.head()"
   ]
  },
  {
   "cell_type": "code",
   "execution_count": 21,
   "metadata": {},
   "outputs": [],
   "source": [
    "#Filling the missing timesteps with pandas resample and ffil()/pad\n",
    "\n",
    "#df_0.groupby('customer_id')['time'].diff()\n",
    "df_0 = df.groupby('customer_id').resample('1T').ffill()\n"
   ]
  },
  {
   "cell_type": "code",
   "execution_count": 22,
   "metadata": {},
   "outputs": [
    {
     "data": {
      "text/html": [
       "<div>\n",
       "<style scoped>\n",
       "    .dataframe tbody tr th:only-of-type {\n",
       "        vertical-align: middle;\n",
       "    }\n",
       "\n",
       "    .dataframe tbody tr th {\n",
       "        vertical-align: top;\n",
       "    }\n",
       "\n",
       "    .dataframe thead th {\n",
       "        text-align: right;\n",
       "    }\n",
       "</style>\n",
       "<table border=\"1\" class=\"dataframe\">\n",
       "  <thead>\n",
       "    <tr style=\"text-align: right;\">\n",
       "      <th></th>\n",
       "      <th></th>\n",
       "      <th>customer_no</th>\n",
       "      <th>location</th>\n",
       "      <th>customer_id</th>\n",
       "    </tr>\n",
       "    <tr>\n",
       "      <th>customer_id</th>\n",
       "      <th>time</th>\n",
       "      <th></th>\n",
       "      <th></th>\n",
       "      <th></th>\n",
       "    </tr>\n",
       "  </thead>\n",
       "  <tbody>\n",
       "    <tr>\n",
       "      <th rowspan=\"3\" valign=\"top\">Mo_1</th>\n",
       "      <th>2019-09-02 07:03:00</th>\n",
       "      <td>1</td>\n",
       "      <td>dairy</td>\n",
       "      <td>Mo_1</td>\n",
       "    </tr>\n",
       "    <tr>\n",
       "      <th>2019-09-02 07:04:00</th>\n",
       "      <td>1</td>\n",
       "      <td>dairy</td>\n",
       "      <td>Mo_1</td>\n",
       "    </tr>\n",
       "    <tr>\n",
       "      <th>2019-09-02 07:05:00</th>\n",
       "      <td>1</td>\n",
       "      <td>checkout</td>\n",
       "      <td>Mo_1</td>\n",
       "    </tr>\n",
       "    <tr>\n",
       "      <th rowspan=\"2\" valign=\"top\">Mo_10</th>\n",
       "      <th>2019-09-02 07:06:00</th>\n",
       "      <td>10</td>\n",
       "      <td>fruit</td>\n",
       "      <td>Mo_10</td>\n",
       "    </tr>\n",
       "    <tr>\n",
       "      <th>2019-09-02 07:07:00</th>\n",
       "      <td>10</td>\n",
       "      <td>fruit</td>\n",
       "      <td>Mo_10</td>\n",
       "    </tr>\n",
       "    <tr>\n",
       "      <th>...</th>\n",
       "      <th>...</th>\n",
       "      <td>...</td>\n",
       "      <td>...</td>\n",
       "      <td>...</td>\n",
       "    </tr>\n",
       "    <tr>\n",
       "      <th rowspan=\"5\" valign=\"top\">Mo_999</th>\n",
       "      <th>2019-09-02 17:45:00</th>\n",
       "      <td>999</td>\n",
       "      <td>dairy</td>\n",
       "      <td>Mo_999</td>\n",
       "    </tr>\n",
       "    <tr>\n",
       "      <th>2019-09-02 17:46:00</th>\n",
       "      <td>999</td>\n",
       "      <td>fruit</td>\n",
       "      <td>Mo_999</td>\n",
       "    </tr>\n",
       "    <tr>\n",
       "      <th>2019-09-02 17:47:00</th>\n",
       "      <td>999</td>\n",
       "      <td>fruit</td>\n",
       "      <td>Mo_999</td>\n",
       "    </tr>\n",
       "    <tr>\n",
       "      <th>2019-09-02 17:48:00</th>\n",
       "      <td>999</td>\n",
       "      <td>fruit</td>\n",
       "      <td>Mo_999</td>\n",
       "    </tr>\n",
       "    <tr>\n",
       "      <th>2019-09-02 17:49:00</th>\n",
       "      <td>999</td>\n",
       "      <td>checkout</td>\n",
       "      <td>Mo_999</td>\n",
       "    </tr>\n",
       "  </tbody>\n",
       "</table>\n",
       "<p>10765 rows × 3 columns</p>\n",
       "</div>"
      ],
      "text/plain": [
       "                                 customer_no  location customer_id\n",
       "customer_id time                                                  \n",
       "Mo_1        2019-09-02 07:03:00            1     dairy        Mo_1\n",
       "            2019-09-02 07:04:00            1     dairy        Mo_1\n",
       "            2019-09-02 07:05:00            1  checkout        Mo_1\n",
       "Mo_10       2019-09-02 07:06:00           10     fruit       Mo_10\n",
       "            2019-09-02 07:07:00           10     fruit       Mo_10\n",
       "...                                      ...       ...         ...\n",
       "Mo_999      2019-09-02 17:45:00          999     dairy      Mo_999\n",
       "            2019-09-02 17:46:00          999     fruit      Mo_999\n",
       "            2019-09-02 17:47:00          999     fruit      Mo_999\n",
       "            2019-09-02 17:48:00          999     fruit      Mo_999\n",
       "            2019-09-02 17:49:00          999  checkout      Mo_999\n",
       "\n",
       "[10765 rows x 3 columns]"
      ]
     },
     "execution_count": 22,
     "metadata": {},
     "output_type": "execute_result"
    }
   ],
   "source": [
    "df_0"
   ]
  },
  {
   "cell_type": "markdown",
   "metadata": {},
   "source": [
    "Creating the dataframe for the transition matrix"
   ]
  },
  {
   "cell_type": "code",
   "execution_count": null,
   "metadata": {},
   "outputs": [],
   "source": [
    "def markov_columns(df):\n",
    "    df[\"before\"] = df['location']\n",
    "    df['after'] = df['location'].shift(-1)\n",
    "    #df = df.drop(df[(df['before'] == 'checkout')].index)\n",
    "    #df[\"after\"] = df.apply(lambda x: 'checkout' if x['before'] == 'checkout') \n",
    "    #df['after'] = df['before'].apply(lambda x: 'checkout' if (x == 'checkout') else x)\n",
    "    df.loc[df['before'] == 'checkout', 'after'] = 'checkout'\n",
    "    #df.set_index('customer_id', inplace=True) # customer_id is needed to arrange the df\n",
    "    df.drop(columns=['customer_no','location'], inplace=True)\n",
    "    df.index =pd.to_datetime(df['time'])\n",
    "    df.drop(columns=['time'], inplace=True)\n",
    "    #df.sort_index(ascending=False)\n",
    "    return df.head(10)"
   ]
  },
  {
   "cell_type": "code",
   "execution_count": null,
   "metadata": {},
   "outputs": [],
   "source": [
    "df_time = markov_columns(df_0)\n"
   ]
  },
  {
   "cell_type": "code",
   "execution_count": null,
   "metadata": {},
   "outputs": [],
   "source": [
    "df_time.head(20)"
   ]
  },
  {
   "cell_type": "code",
   "execution_count": null,
   "metadata": {},
   "outputs": [],
   "source": [
    "df"
   ]
  },
  {
   "cell_type": "code",
   "execution_count": null,
   "metadata": {},
   "outputs": [],
   "source": [
    "#reset of index to datetime is now included in the function\n",
    "\n",
    "#df_time.set_Date\n",
    "#df_time['date'] = pd.to_datetime(df_time['time'])\n",
    "#df_time.index =pd.to_datetime(df_time['date'])\n",
    "#df_time.drop['']"
   ]
  },
  {
   "cell_type": "code",
   "execution_count": null,
   "metadata": {},
   "outputs": [],
   "source": [
    "#df_time.resample('min', on='time', freq='0:01')"
   ]
  },
  {
   "cell_type": "code",
   "execution_count": null,
   "metadata": {},
   "outputs": [],
   "source": []
  }
 ],
 "metadata": {
  "interpreter": {
   "hash": "40d3a090f54c6569ab1632332b64b2c03c39dcf918b08424e98f38b5ae0af88f"
  },
  "kernelspec": {
   "display_name": "Python 3.8.8 64-bit ('base': conda)",
   "language": "python",
   "name": "python3"
  },
  "language_info": {
   "codemirror_mode": {
    "name": "ipython",
    "version": 3
   },
   "file_extension": ".py",
   "mimetype": "text/x-python",
   "name": "python",
   "nbconvert_exporter": "python",
   "pygments_lexer": "ipython3",
   "version": "3.8.8"
  },
  "orig_nbformat": 4
 },
 "nbformat": 4,
 "nbformat_minor": 2
}
